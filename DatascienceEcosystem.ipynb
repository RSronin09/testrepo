{
  "metadata": {
    "kernelspec": {
      "name": "python",
      "display_name": "Python (Pyodide)",
      "language": "python"
    },
    "language_info": {
      "codemirror_mode": {
        "name": "python",
        "version": 3
      },
      "file_extension": ".py",
      "mimetype": "text/x-python",
      "name": "python",
      "nbconvert_exporter": "python",
      "pygments_lexer": "ipython3",
      "version": "3.8"
    }
  },
  "nbformat_minor": 4,
  "nbformat": 4,
  "cells": [
    {
      "cell_type": "markdown",
      "source": "# Data Science Tools and Ecosystems",
      "metadata": {}
    },
    {
      "cell_type": "markdown",
      "source": "## Author\nCarlos Enrique Rivera",
      "metadata": {}
    },
    {
      "cell_type": "markdown",
      "source": "In this notebook, Data Science Tools and Ecosystems are summarized",
      "metadata": {}
    },
    {
      "cell_type": "markdown",
      "source": "**Objectives**",
      "metadata": {}
    },
    {
      "cell_type": "markdown",
      "source": "* Cover some popular languages that Data Scientist Use\n* Discuss some commonly used Langauges for data science\n* Discuss some commonly used libraries used by data scientist\n* Discuss some commonly used tools used by data scientist\n* provide examples on how to use python for simple math formulas and equations",
      "metadata": {}
    },
    {
      "cell_type": "markdown",
      "source": "# Some of the popular languages that Data Scientist use are",
      "metadata": {}
    },
    {
      "cell_type": "markdown",
      "source": " Some of the popular languages the Data Scientist use Are:\n 1. R\n 2. Python\n 3. JavaScript\n\n",
      "metadata": {}
    },
    {
      "cell_type": "markdown",
      "source": "Some of the Commonly used libraries used by Data Scientist include",
      "metadata": {}
    },
    {
      "cell_type": "markdown",
      "source": "1. Pandas\n2.  Numpy\n3. Tensorflow",
      "metadata": {}
    },
    {
      "cell_type": "markdown",
      "source": "Data Science Tools |\nGitHub |\nJupyterNotebook |\nVisual Studio Code |\n\n",
      "metadata": {}
    },
    {
      "cell_type": "markdown",
      "source": "# Data Science Tools\n\n| Data Science Tools        |\n|-------------|\n| Jupyter     | \n| RStudio     | \n| Apache Spark |\n ",
      "metadata": {}
    },
    {
      "cell_type": "markdown",
      "source": "### Below are a few example of evaluating arithmetic expression in Python",
      "metadata": {}
    },
    {
      "cell_type": "code",
      "source": "(3*4)+5\n# This is a simple aritmetic expression to multiply then add integers",
      "metadata": {
        "trusted": true
      },
      "outputs": [
        {
          "execution_count": 8,
          "output_type": "execute_result",
          "data": {
            "text/plain": "17"
          },
          "metadata": {}
        }
      ],
      "execution_count": 8
    },
    {
      "cell_type": "code",
      "source": "200/60\n#This will convert 200 minutes to hours by dividing by 60.",
      "metadata": {
        "trusted": true
      },
      "outputs": [
        {
          "execution_count": 9,
          "output_type": "execute_result",
          "data": {
            "text/plain": "3.3333333333333335"
          },
          "metadata": {}
        }
      ],
      "execution_count": 9
    },
    {
      "cell_type": "code",
      "source": "",
      "metadata": {
        "trusted": true
      },
      "outputs": [],
      "execution_count": null
    }
  ]
}